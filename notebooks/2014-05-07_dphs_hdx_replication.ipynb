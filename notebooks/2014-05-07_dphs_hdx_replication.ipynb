{
 "metadata": {
  "name": "",
  "signature": "sha256:fd342be6359eb145db5414aa7334c79cc114c46c2c7bb69ccc489d7f4de38ae6"
 },
 "nbformat": 3,
 "nbformat_minor": 0,
 "worksheets": [
  {
   "cells": [
    {
     "cell_type": "heading",
     "level": 1,
     "metadata": {},
     "source": [
      "Q: Does the 2-month \u2206+PHS HDX experiment corroborate the 1-week experiment?"
     ]
    },
    {
     "cell_type": "markdown",
     "metadata": {},
     "source": [
      "## Background\n",
      "\n",
      "In 2012-2013, hydrogen-deuterium exchange measurements were collected on \u2206+PHS at 3 pH\\* (uncorrected pH meter reading in D2O) 6.7, 4.5, 3.9 to study the extent of local unfolding coupled with titration of surface Asp and Glu residues. At each pH, HN HSQC spectra were collected at timepoints distributed over approximately 1 week. For the local and global unfolding stabilities expected for \u2206+PHS over the pH range 6.7-3.9, this collection length actually samples a very small fraction of the overall expected exponential decay of resonance intensities in the spectra. However, because I collected many spectra early in the decay, the sampling of the decay was robust according to simulations I performed (elsewhere, not yet in an IPython Notebook). Nonetheless it is important to experimentally corroborate these data against hydrogen-deuterium exchange measurements collected over a much longer period appropriate to sampling the high stabilities expected of the protein, so I repeated the experiment but collected spectra at timepoints distributed over 2 months.\n",
      "\n",
      "Caveats:\n",
      "* The long collection-time data may be noisier than the original data because the samples needed to be reshimmed before each spectrum was collected after being placed back in the magnet (samples were stored at the same temperature in a heat bath between points).\n",
      "* This is a preliminary analysis that uses the residues that were easy to transfer assignments to across the ~40 spectra at each pH. After assessing the quality, I will return to more thoroughly assign the spectra and extract quantitative exchange information for as many residues as possible."
     ]
    },
    {
     "cell_type": "markdown",
     "metadata": {},
     "source": [
      "### Original results from short collection-time data: \n",
      "(And reprocessed by new version of the hdx_analysis code that parses datetime strings for the timepoints.)\n",
      "\n",
      "/Users/drichman/Dropbox/pro/2013-09_dphs_fluctuations_paper/hdx_data/2014-02-27_hdx_timepoints_test\n",
      "\n",
      "### New results will be based on the long collection-time data:\n",
      "\n",
      "/Users/drichman/Dropbox/pro/2014-03_dphs_hdx_replication"
     ]
    },
    {
     "cell_type": "code",
     "collapsed": false,
     "input": [
      "cd ~/Dropbox/pro/code/nmr-analysis"
     ],
     "language": "python",
     "metadata": {},
     "outputs": [
      {
       "output_type": "stream",
       "stream": "stdout",
       "text": [
        "/Users/drichman/Dropbox/pro/code/nmr-analysis\n"
       ]
      }
     ],
     "prompt_number": 1
    },
    {
     "cell_type": "code",
     "collapsed": false,
     "input": [
      "from os import listdir, getcwd\n",
      "import hdx_analysis"
     ],
     "language": "python",
     "metadata": {},
     "outputs": [],
     "prompt_number": 2
    },
    {
     "cell_type": "code",
     "collapsed": false,
     "input": [
      "cd /Users/drichman/Dropbox/pro/2014-03_dphs_hdx_replication"
     ],
     "language": "python",
     "metadata": {},
     "outputs": [
      {
       "output_type": "stream",
       "stream": "stdout",
       "text": [
        "/Users/drichman/Dropbox/pro/2014-03_dphs_hdx_replication\n"
       ]
      }
     ],
     "prompt_number": 3
    },
    {
     "cell_type": "code",
     "collapsed": false,
     "input": [
      "files = [i for i in listdir(getcwd()) if i.endswith('heights.txt')]\n",
      "t0_list = ['2013-12-26_16:38', '2013-12-27_15:45', '2013-12-28_10:29']\n",
      "\n",
      "results = hdx_analysis.multi_pH(dict(zip(files, t0_list))).sort_index()"
     ],
     "language": "python",
     "metadata": {},
     "outputs": [
      {
       "output_type": "stream",
       "stream": "stdout",
       "text": [
        "Res  52  has < 3 points, so no fit\n"
       ]
      }
     ],
     "prompt_number": 4
    },
    {
     "cell_type": "code",
     "collapsed": false,
     "input": [
      "hdx_analysis.calc_slopes(results)\n",
      "hdx_analysis.bin_dg(results)\n",
      "hdx_analysis.formatter(results).to_csv('hdx_rates.txt', sep='\\t', float_format='%.2e')"
     ],
     "language": "python",
     "metadata": {},
     "outputs": [],
     "prompt_number": 5
    },
    {
     "cell_type": "code",
     "collapsed": false,
     "input": [],
     "language": "python",
     "metadata": {},
     "outputs": []
    }
   ],
   "metadata": {}
  }
 ]
}