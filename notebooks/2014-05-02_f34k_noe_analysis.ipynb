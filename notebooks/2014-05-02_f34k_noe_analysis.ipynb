{
 "metadata": {
  "name": "",
  "signature": "sha256:bf0e70ee14349b3c1e388fe6377d7c519633282b42781e764713574ed1e5d346"
 },
 "nbformat": 3,
 "nbformat_minor": 0,
 "worksheets": [
  {
   "cells": [
    {
     "cell_type": "markdown",
     "metadata": {},
     "source": [
      "# Q: Is there evidence of flexibility on the fast timescale (ps-ns) in F34K?\n",
      "Heteronuclear (1H, 15N) NOE experiment on F34K\n",
      "\n",
      "Sample: 15N-labeled \u2206+PHS F34K, pH 7.2, 25C, 0.10 M KCl; data collected on Brew, 2014 Apr 29-30"
     ]
    },
    {
     "cell_type": "heading",
     "level": 2,
     "metadata": {},
     "source": [
      "Setup"
     ]
    },
    {
     "cell_type": "code",
     "collapsed": false,
     "input": [
      "cd ~/Dropbox/pro/code/nmr-analysis"
     ],
     "language": "python",
     "metadata": {},
     "outputs": [
      {
       "output_type": "stream",
       "stream": "stdout",
       "text": [
        "/Users/drichman/Dropbox/pro/code/nmr-analysis\n"
       ]
      }
     ],
     "prompt_number": 1
    },
    {
     "cell_type": "code",
     "collapsed": false,
     "input": [
      "import pandas as pd\n",
      "import numpy as np\n",
      "import matplotlib.pyplot as plt\n",
      "\n",
      "import nmrfn"
     ],
     "language": "python",
     "metadata": {},
     "outputs": [],
     "prompt_number": 8
    },
    {
     "cell_type": "code",
     "collapsed": false,
     "input": [
      "%matplotlib inline"
     ],
     "language": "python",
     "metadata": {},
     "outputs": [],
     "prompt_number": 9
    },
    {
     "cell_type": "code",
     "collapsed": false,
     "input": [
      "cd ~/Dropbox/pro/nmr/dphs_f34k/noe/2014-04-29_brew_25C_0p10M-KCl_pH_7p2/analysis"
     ],
     "language": "python",
     "metadata": {},
     "outputs": [
      {
       "output_type": "stream",
       "stream": "stdout",
       "text": [
        "/Users/drichman/Dropbox/pro/nmr/dphs_f34k/noe/2014-04-29_brew_25C_0p10M-KCl_pH_7p2/analysis\n"
       ]
      }
     ],
     "prompt_number": 10
    },
    {
     "cell_type": "heading",
     "level": 2,
     "metadata": {},
     "source": [
      "Data input"
     ]
    },
    {
     "cell_type": "code",
     "collapsed": false,
     "input": [
      "files = ['dphs_7p4_noe_heights.txt', 'f34k_7p2_noe_heights.txt']\n",
      "proteins = {'dphs':'black', 'f34k':'red'}\n",
      "\n",
      "heights = [nmrfn.parse_noe(f) for f in files]\n",
      "heights = pd.concat(heights, axis=1, keys=proteins)"
     ],
     "language": "python",
     "metadata": {},
     "outputs": [],
     "prompt_number": 4
    },
    {
     "cell_type": "heading",
     "level": 2,
     "metadata": {},
     "source": [
      "Calculation"
     ]
    },
    {
     "cell_type": "code",
     "collapsed": false,
     "input": [
      "def noe_calcs(df):\n",
      "    noe_status = ['off','on']\n",
      "    off_mean, on_mean = [df[i].mean(1) for i in noe_status]\n",
      "    off_sdev, on_sdev = [df[i].std(1) for i in noe_status]\n",
      "    noe_val = on_mean/off_mean\n",
      "    noe_err = np.sqrt( (noe_val**2) * ( (on_sdev/on_mean)**2 + (off_sdev/off_mean)**2 ) )\n",
      "    return pd.concat([noe_val,noe_err], axis=1, keys=['noe','err'])\n",
      "\n",
      "results = [noe_calcs(heights[i]) for i in proteins]\n",
      "results = pd.concat(results, axis=1, keys=proteins)"
     ],
     "language": "python",
     "metadata": {},
     "outputs": [],
     "prompt_number": 5
    },
    {
     "cell_type": "markdown",
     "metadata": {},
     "source": [
      "An excerpt of the results DataFrame to show its structure and content:"
     ]
    },
    {
     "cell_type": "code",
     "collapsed": false,
     "input": [
      "results.head()"
     ],
     "language": "python",
     "metadata": {},
     "outputs": [
      {
       "html": [
        "<div style=\"max-height:1000px;max-width:1500px;overflow:auto;\">\n",
        "<table border=\"1\" class=\"dataframe\">\n",
        "  <thead>\n",
        "    <tr>\n",
        "      <th></th>\n",
        "      <th colspan=\"2\" halign=\"left\">dphs</th>\n",
        "      <th colspan=\"2\" halign=\"left\">f34k</th>\n",
        "    </tr>\n",
        "    <tr>\n",
        "      <th></th>\n",
        "      <th>noe</th>\n",
        "      <th>err</th>\n",
        "      <th>noe</th>\n",
        "      <th>err</th>\n",
        "    </tr>\n",
        "  </thead>\n",
        "  <tbody>\n",
        "    <tr>\n",
        "      <th>6 </th>\n",
        "      <td>      NaN</td>\n",
        "      <td>      NaN</td>\n",
        "      <td> 0.093221</td>\n",
        "      <td> 0.021061</td>\n",
        "    </tr>\n",
        "    <tr>\n",
        "      <th>7 </th>\n",
        "      <td> 0.529450</td>\n",
        "      <td> 0.018605</td>\n",
        "      <td> 0.462083</td>\n",
        "      <td> 0.008490</td>\n",
        "    </tr>\n",
        "    <tr>\n",
        "      <th>8 </th>\n",
        "      <td> 0.776969</td>\n",
        "      <td> 0.018013</td>\n",
        "      <td>      NaN</td>\n",
        "      <td>      NaN</td>\n",
        "    </tr>\n",
        "    <tr>\n",
        "      <th>9 </th>\n",
        "      <td> 0.785401</td>\n",
        "      <td> 0.029351</td>\n",
        "      <td> 0.709917</td>\n",
        "      <td> 0.010080</td>\n",
        "    </tr>\n",
        "    <tr>\n",
        "      <th>10</th>\n",
        "      <td> 0.783659</td>\n",
        "      <td> 0.013662</td>\n",
        "      <td>      NaN</td>\n",
        "      <td>      NaN</td>\n",
        "    </tr>\n",
        "  </tbody>\n",
        "</table>\n",
        "<p>5 rows \u00d7 4 columns</p>\n",
        "</div>"
       ],
       "metadata": {},
       "output_type": "pyout",
       "prompt_number": 6,
       "text": [
        "        dphs                f34k          \n",
        "         noe       err       noe       err\n",
        "6        NaN       NaN  0.093221  0.021061\n",
        "7   0.529450  0.018605  0.462083  0.008490\n",
        "8   0.776969  0.018013       NaN       NaN\n",
        "9   0.785401  0.029351  0.709917  0.010080\n",
        "10  0.783659  0.013662       NaN       NaN\n",
        "\n",
        "[5 rows x 4 columns]"
       ]
      }
     ],
     "prompt_number": 6
    },
    {
     "cell_type": "heading",
     "level": 2,
     "metadata": {},
     "source": [
      "Plotting"
     ]
    },
    {
     "cell_type": "code",
     "collapsed": false,
     "input": [
      "from matplotlib.ticker import MaxNLocator\n",
      "\n",
      "fig = plt.figure(figsize=(10,6))\n",
      "val = plt.subplot(211)\n",
      "dif = plt.subplot(212)\n",
      "\n",
      "seqmin = 6\n",
      "seqmax = 144\n",
      "noemin = 0.5\n",
      "noemax = 0.95\n",
      "\n",
      "# for the differences plot\n",
      "dy = results.dphs.noe - results.f34k.noe\n",
      "dy = dy.ix[8:141]\n",
      "dx = dy.index\n",
      "dif.bar(dx, dy, color='gray')\n",
      "dif.set_xlim(seqmin, seqmax)\n",
      "dif.xaxis.set_major_locator(MaxNLocator(15))\n",
      "dif.set_xlabel('Residue')\n",
      "dif.set_ylabel('Difference')\n",
      "dif.grid(False)\n",
      "dif.axhline(y=0, linewidth=1, color='black')\n",
      "\n",
      "# for the values plot\n",
      "for i in proteins:\n",
      "    x = results[i].noe.index\n",
      "    y = results[i].noe\n",
      "    e = results[i].err\n",
      "    val.errorbar(x, y, yerr=e, fmt='o', markersize=4, color=proteins[i])\n",
      "\n",
      "val.set_xlim(seqmin, seqmax)\n",
      "val.xaxis.set_major_locator(MaxNLocator(15))\n",
      "val.set_ylim(noemin, noemax)\n",
      "val.set_ylabel('NOE')\n",
      "plt.setp(val.get_xticklabels(), visible=False)\n",
      "\n",
      "s1 = plt.Rectangle((0, 0), 1, 1, fc=proteins['f34k'])\n",
      "s2 = plt.Rectangle((0, 0), 1, 1, fc=proteins['dphs'])\n",
      "val.legend([s1, s2], ['F34K', '\u2206+PHS'], loc=8)\n",
      "\n",
      "fig.suptitle('HN NOE: F34K pH 7.2 compared with \u2206+PHS pH 7.4')\n",
      "#fig.savefig('f34k_7p2_noe_analysis.pdf')\n",
      "\n",
      "plt.show()"
     ],
     "language": "python",
     "metadata": {},
     "outputs": [
      {
       "metadata": {},
       "output_type": "display_data",
       "png": "[encoded data removed]",
       "text": [
        "<matplotlib.figure.Figure at 0x1073c8f10>"
       ]
      }
     ],
     "prompt_number": 11
    },
    {
     "cell_type": "markdown",
     "metadata": {},
     "source": [
      "# A: F34K ps-ns timescale flexibility does not differ significantly from that of \u2206+PHS"
     ]
    }
   ],
   "metadata": {}
  }
 ]
}