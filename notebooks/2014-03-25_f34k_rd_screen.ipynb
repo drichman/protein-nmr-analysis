{
 "metadata": {
  "name": "",
  "signature": "sha256:8e7452380b3ad21e4500c365e2effe3e73b4c5b93675a0571ea306b5678c47ce"
 },
 "nbformat": 3,
 "nbformat_minor": 0,
 "worksheets": [
  {
   "cells": [
    {
     "cell_type": "heading",
     "level": 1,
     "metadata": {},
     "source": [
      "Is there evidence of 15N relaxation dispersion in F34K?"
     ]
    },
    {
     "cell_type": "markdown",
     "metadata": {},
     "source": [
      "[TEMPORARY RECORD OF SCRATCHWORK]"
     ]
    },
    {
     "cell_type": "code",
     "collapsed": false,
     "input": [
      "from os import listdir, curdir\n",
      "import pandas as pd\n",
      "\n",
      "data_listed = [parse_lt_file(f) for f in listdir(curdir)]\n",
      "df = pd.concat(data_listed, axis=1)\n",
      "\n",
      "exp_names = [i.split('_')[3]+'_'+i.split('_')[4] for i in listdir(curdir)]\n",
      "df.columns = exp_names\n",
      "\n",
      "# One plotting idea: looking at one endpoint pair at a time\n",
      "pairs = {'30penult':['30_2','30_20'],'30ult':['30_1','30_25'],\\\n",
      "         '40penult':['40_2','40_28'],'40ult':['40_1','30_35']}\n",
      "df[pairs['30penult']].plot(kind='bar', stacked=True)\n",
      "\n",
      "# Another plotting idea: looking at all the endpoints at once\n",
      "ax = df.ix[6:20].plot(kind='bar', figsize=(12,8), rot=0, \\\n",
      "    title='Legend: CT in ms, # of CPMG loops',legend=True)\n",
      "ax.set_ylabel('Sparky peak height')\n",
      "ax.set_xlabel('Residue')\n",
      "ax.legend(loc='best')"
     ],
     "language": "python",
     "metadata": {},
     "outputs": []
    }
   ],
   "metadata": {}
  }
 ]
}