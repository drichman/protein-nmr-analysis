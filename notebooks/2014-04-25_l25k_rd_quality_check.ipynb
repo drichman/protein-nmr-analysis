{
 "metadata": {
  "name": "",
  "signature": "sha256:7fe77d1d47536a37ecf315bc994eb1325d9523712aaa36cc52555571a5a0598d"
 },
 "nbformat": 3,
 "nbformat_minor": 0,
 "worksheets": [
  {
   "cells": [
    {
     "cell_type": "heading",
     "level": 3,
     "metadata": {},
     "source": [
      "Q: Can we collect clean relaxation dispersion data with 2H-labeled L25K?"
     ]
    },
    {
     "cell_type": "markdown",
     "metadata": {},
     "source": [
      "Sample: 2H,15N-labeled \u2206+PHS L25K, pH 6.3, 25C, 0.10 M KCl; data collected on Brew, 2014 Apr 23-25"
     ]
    },
    {
     "cell_type": "heading",
     "level": 4,
     "metadata": {},
     "source": [
      "Changing working directory to location of modules, for ease of import"
     ]
    },
    {
     "cell_type": "markdown",
     "metadata": {},
     "source": [
      "Functions used in this notebook from modules nmrfn and rd_analysis can be found in [this repository](https://github.com/drichman/nmr-analysis)"
     ]
    },
    {
     "cell_type": "code",
     "collapsed": false,
     "input": [
      "cd ~/Dropbox/pro/code/nmr-analysis"
     ],
     "language": "python",
     "metadata": {},
     "outputs": [
      {
       "output_type": "stream",
       "stream": "stdout",
       "text": [
        "/Users/drichman/Dropbox/pro/code/nmr-analysis\n"
       ]
      }
     ],
     "prompt_number": 1
    },
    {
     "cell_type": "heading",
     "level": 4,
     "metadata": {},
     "source": [
      "Preliminaries: imports, giving a variable for the data file"
     ]
    },
    {
     "cell_type": "code",
     "collapsed": false,
     "input": [
      "import pandas as pd\n",
      "import numpy as np\n",
      "import matplotlib.pyplot as plt\n",
      "\n",
      "import nmrfn\n",
      "from rd_analysis import calc_R2series, plot_r2_cpmg\n",
      "\n",
      "exp_dir = '/Users/drichman/Dropbox/pro/nmr/dphs_l25k/rd/2014-04-23_brew_25C_0p10M-KCl_pH_6p3/'\n",
      "rh_file = exp_dir+'sparky_save/Lists/2014-04-23_l25k_rd.txt'"
     ],
     "language": "python",
     "metadata": {},
     "outputs": [],
     "prompt_number": 2
    },
    {
     "cell_type": "heading",
     "level": 4,
     "metadata": {},
     "source": [
      "Now actual handling of data"
     ]
    },
    {
     "cell_type": "markdown",
     "metadata": {},
     "source": [
      "1. Parse the rh file to generate DataFrame with peak heights\n",
      "2. Convert peak heights to $R_2$ values\n",
      "4. Plot the $R_2$ series vs CPMG frequency for each residue, for visual inspection"
     ]
    },
    {
     "cell_type": "code",
     "collapsed": false,
     "input": [
      "heights = nmrfn.parse_rd(rh_file)\n",
      "\n",
      "CT = 28.8 # constant-time R2 relaxation period in ms\n",
      "r2_vals = calc_R2series(heights, CT)\n",
      "\n",
      "plot_r2_cpmg(r2_vals, exp_dir+'analysis')"
     ],
     "language": "python",
     "metadata": {},
     "outputs": [
      {
       "output_type": "stream",
       "stream": "stderr",
       "text": [
        "/Users/drichman/miniconda3/lib/python3.3/site-packages/pandas/core/strings.py:367: UserWarning: In future versions of pandas, match will change to always return a bool indexer.\n",
        "  \" always return a bool indexer.\"\"\", UserWarning)\n",
        "/Users/drichman/miniconda3/lib/python3.3/site-packages/matplotlib/pyplot.py:412: RuntimeWarning: More than 20 figures have been opened. Figures created through the pyplot interface (`matplotlib.pyplot.figure`) are retained until explicitly closed and may consume too much memory. (To control this warning, see the rcParam `figure.max_num_figures`).\n",
        "  max_open_warning, RuntimeWarning)\n"
       ]
      }
     ],
     "prompt_number": 3
    },
    {
     "cell_type": "markdown",
     "metadata": {},
     "source": [
      "Questions about the data set:\n",
      "* What is \"clean\" by the standards of current literature?\n",
      "* Is \"noise\" actually signal (a signature of slow exchange eg Tollinger et al JACS 2001)?\n",
      "* What is the set of residues that can serve as relaxation dispersion probes (clean curves, regardless of whether they show strong dispersion or not)?\n",
      "* How does this data set refine the conclusions from the previous Rex estimates from RD endpoints (Aug 2013)?\n",
      "* What experimental conditions or controls need to be added for a quantitative analysis of RD?"
     ]
    },
    {
     "cell_type": "code",
     "collapsed": false,
     "input": [],
     "language": "python",
     "metadata": {},
     "outputs": []
    }
   ],
   "metadata": {}
  }
 ]
}