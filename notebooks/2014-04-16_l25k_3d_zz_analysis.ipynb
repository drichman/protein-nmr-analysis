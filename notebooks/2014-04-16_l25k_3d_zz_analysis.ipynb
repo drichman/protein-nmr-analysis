{
 "metadata": {
  "name": "",
  "signature": "sha256:af7dc1d1910a39393d2a3439d318ec2dc8b82268be411ea47aecb96116bff032"
 },
 "nbformat": 3,
 "nbformat_minor": 0,
 "worksheets": [
  {
   "cells": [
    {
     "cell_type": "markdown",
     "metadata": {},
     "source": [
      "L25K pH 6.3 3D ZZ exchange analysis (\"Who are the crosspeaks?\")"
     ]
    },
    {
     "cell_type": "markdown",
     "metadata": {},
     "source": [
      "I have picked peaks throughout the 3D spectrum but they are unassigned. Resonances on the diagonal (HN self peaks) should have the same w1 and w3 chemical shifts within some tolerance. To help find exchange crosspeaks I'm going to print the chemical shifts of resonances whose w1 and w3 chemical shifts are different. PS this is also my first use of IPython Notebook."
     ]
    },
    {
     "cell_type": "code",
     "collapsed": false,
     "input": [
      "pwd"
     ],
     "language": "python",
     "metadata": {},
     "outputs": [
      {
       "metadata": {},
       "output_type": "pyout",
       "prompt_number": 1,
       "text": [
        "'/Users/drichman/Dropbox/pro/nmr/dphs_l25k/zz/2014-03-31_brew2_25C_0p10M-KCl_pH_6p3_HHN/spectrum'"
       ]
      }
     ],
     "prompt_number": 1
    },
    {
     "cell_type": "code",
     "collapsed": false,
     "input": [
      "cd ../../2014-03-25_brew2_25C_0p10M-KCl_pH_6p3/sparky_save/Lists/"
     ],
     "language": "python",
     "metadata": {},
     "outputs": [
      {
       "output_type": "stream",
       "stream": "stdout",
       "text": [
        "/Users/drichman/Dropbox/pro/nmr/dphs_l25k/zz/2014-03-25_brew2_25C_0p10M-KCl_pH_6p3/sparky_save/Lists\n"
       ]
      }
     ],
     "prompt_number": 2
    },
    {
     "cell_type": "code",
     "collapsed": false,
     "input": [
      "import pandas as pd\n",
      "\n",
      "shifts = pd.read_table(\"l25k_6p3_zz_hhn.list\", skiprows=2, sep=' ', index_col=False, header=None, names=['w1','w2','w3'])\n",
      "shifts.head()"
     ],
     "language": "python",
     "metadata": {},
     "outputs": [
      {
       "html": [
        "<div style=\"max-height:1000px;max-width:1500px;overflow:auto;\">\n",
        "<table border=\"1\" class=\"dataframe\">\n",
        "  <thead>\n",
        "    <tr style=\"text-align: right;\">\n",
        "      <th></th>\n",
        "      <th>w1</th>\n",
        "      <th>w2</th>\n",
        "      <th>w3</th>\n",
        "    </tr>\n",
        "  </thead>\n",
        "  <tbody>\n",
        "    <tr>\n",
        "      <th>0</th>\n",
        "      <td> 7.914</td>\n",
        "      <td> 119.998</td>\n",
        "      <td> 5.352</td>\n",
        "    </tr>\n",
        "    <tr>\n",
        "      <th>1</th>\n",
        "      <td> 9.678</td>\n",
        "      <td> 112.669</td>\n",
        "      <td> 6.054</td>\n",
        "    </tr>\n",
        "    <tr>\n",
        "      <th>2</th>\n",
        "      <td> 9.687</td>\n",
        "      <td> 113.198</td>\n",
        "      <td> 6.095</td>\n",
        "    </tr>\n",
        "    <tr>\n",
        "      <th>3</th>\n",
        "      <td> 6.677</td>\n",
        "      <td> 121.056</td>\n",
        "      <td> 6.676</td>\n",
        "    </tr>\n",
        "    <tr>\n",
        "      <th>4</th>\n",
        "      <td> 6.817</td>\n",
        "      <td> 121.119</td>\n",
        "      <td> 6.678</td>\n",
        "    </tr>\n",
        "  </tbody>\n",
        "</table>\n",
        "<p>5 rows \u00d7 3 columns</p>\n",
        "</div>"
       ],
       "metadata": {},
       "output_type": "pyout",
       "prompt_number": 13,
       "text": [
        "      w1       w2     w3\n",
        "0  7.914  119.998  5.352\n",
        "1  9.678  112.669  6.054\n",
        "2  9.687  113.198  6.095\n",
        "3  6.677  121.056  6.676\n",
        "4  6.817  121.119  6.678\n",
        "\n",
        "[5 rows x 3 columns]"
       ]
      }
     ],
     "prompt_number": 13
    },
    {
     "cell_type": "markdown",
     "metadata": {},
     "source": [
      "The following is for getting a sense of where to set the threshold difference between w1 and w3 chemical shifts."
     ]
    },
    {
     "cell_type": "code",
     "collapsed": false,
     "input": [
      "import numpy as np\n",
      "\n",
      "shifts_diffs = abs(shifts['w1'] - shifts['w3'])\n",
      "print('w1 - w3 avg: ', np.mean(shifts_diffs))\n",
      "print('w1 - w3 standard deviation: ', np.std(shifts_diffs))"
     ],
     "language": "python",
     "metadata": {},
     "outputs": [
      {
       "output_type": "stream",
       "stream": "stdout",
       "text": [
        "w1 - w3 avg:  0.0773454345435\n",
        "w1 - w3 standard deviation: "
       ]
      },
      {
       "output_type": "stream",
       "stream": "stdout",
       "text": [
        " 0.281290366195\n"
       ]
      }
     ],
     "prompt_number": 15
    },
    {
     "cell_type": "code",
     "collapsed": false,
     "input": [
      "len(shifts[shifts_diffs > 0.05])"
     ],
     "language": "python",
     "metadata": {},
     "outputs": [
      {
       "metadata": {},
       "output_type": "pyout",
       "prompt_number": 20,
       "text": [
        "143"
       ]
      }
     ],
     "prompt_number": 20
    },
    {
     "cell_type": "markdown",
     "metadata": {},
     "source": [
      "That's a lot of shifts to go through, but the number of relevant residues should actually be half that (for every w1-w3 crosspeak there should be a w3-w1 crosspeak at a different 15N chemical shift). Still, maybe as a first pass we'll take a higher threshold, then visually see how well assigned the spectrum is before analyzing a lower threshold."
     ]
    },
    {
     "cell_type": "code",
     "collapsed": false,
     "input": [
      "len(shifts[shifts_diffs > 0.1])"
     ],
     "language": "python",
     "metadata": {},
     "outputs": [
      {
       "metadata": {},
       "output_type": "pyout",
       "prompt_number": 21,
       "text": [
        "130"
       ]
      }
     ],
     "prompt_number": 21
    },
    {
     "cell_type": "code",
     "collapsed": false,
     "input": [
      "len(shifts[shifts_diffs > 0.2])"
     ],
     "language": "python",
     "metadata": {},
     "outputs": [
      {
       "metadata": {},
       "output_type": "pyout",
       "prompt_number": 22,
       "text": [
        "81"
       ]
      }
     ],
     "prompt_number": 22
    },
    {
     "cell_type": "code",
     "collapsed": false,
     "input": [
      "shifts[shifts_diffs > 0.2].to_csv('l25k_zz_crosspk_diff_0.2_thresh', sep='\\t', float_format='%.3f', index=False)"
     ],
     "language": "python",
     "metadata": {},
     "outputs": [],
     "prompt_number": 30
    },
    {
     "cell_type": "code",
     "collapsed": false,
     "input": [],
     "language": "python",
     "metadata": {},
     "outputs": []
    }
   ],
   "metadata": {}
  }
 ]
}