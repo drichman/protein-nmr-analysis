{
 "metadata": {
  "name": "",
  "signature": "sha256:ada71fd29c235b5ae93a2559409382f2b370e9e37ea1f9c981656e6246d58863"
 },
 "nbformat": 3,
 "nbformat_minor": 0,
 "worksheets": [
  {
   "cells": [
    {
     "cell_type": "heading",
     "level": 1,
     "metadata": {},
     "source": [
      "Analysis of changes in order parameter ($S^2$) with pH"
     ]
    },
    {
     "cell_type": "code",
     "collapsed": false,
     "input": [
      "%matplotlib inline"
     ],
     "language": "python",
     "metadata": {},
     "outputs": [],
     "prompt_number": 3
    },
    {
     "cell_type": "code",
     "collapsed": false,
     "input": [
      "cd '/Users/drichman/Dropbox/pro/2013-09_dphs_fluctuations_paper/proteins_revision/2014-05-21_dphs_s2_analysis'"
     ],
     "language": "python",
     "metadata": {},
     "outputs": [
      {
       "output_type": "stream",
       "stream": "stdout",
       "text": [
        "/Users/drichman/Dropbox/pro/2013-09_dphs_fluctuations_paper/proteins_revision/s2_analysis\n"
       ]
      }
     ],
     "prompt_number": 4
    },
    {
     "cell_type": "markdown",
     "metadata": {},
     "source": [
      "## Data import and plotting\n",
      "These data come from the original ROTDIF analysis."
     ]
    },
    {
     "cell_type": "code",
     "collapsed": false,
     "input": [
      "import pandas as pd\n",
      "\n",
      "files = ['dynamics_ph3p3_regreg_axi', 'dynamics_ph4p7_regreg_axi', 'dynamics_ph7p4_regreg_axi']\n",
      "\n",
      "def read_dyn_data(f):\n",
      "    cols = [(0,4), (29,34), (35,44), (45,50)]\n",
      "    colnames = ['res', 's2', 'tau', 'rex']\n",
      "    return pd.read_fwf(f, colspecs=cols, names=colnames, index_col='res')\n",
      "\n",
      "# Model-free results at pH 3.3, 4.7, 7.4\n",
      "mf3, mf4, mf7 = [read_dyn_data(f) for f in files]\n",
      "\n",
      "# Differences between S2 values at each pH\n",
      "d74 = mf7['s2'] - mf4['s2']\n",
      "d43 = mf4['s2'] - mf3['s2']\n",
      "d73 = mf7['s2'] - mf3['s2']"
     ],
     "language": "python",
     "metadata": {},
     "outputs": [],
     "prompt_number": 18
    },
    {
     "cell_type": "code",
     "collapsed": false,
     "input": [
      "import matplotlib.pyplot as plt\n",
      "\n",
      "ds2 = plt.figure(figsize=(8.5,11))\n",
      "d7to4 = ds2.add_subplot(311)\n",
      "d4to3 = ds2.add_subplot(312, sharex=d7to4)\n",
      "d7to3 = ds2.add_subplot(313, sharex=d7to4)\n",
      "\n",
      "d7to4.bar(d74.index, d74, align='center', color='gray')\n",
      "d4to3.bar(d43.index, d43, align='center', color='gray')\n",
      "d7to3.bar(d73.index, d73, align='center', color='gray')"
     ],
     "language": "python",
     "metadata": {},
     "outputs": [
      {
       "metadata": {},
       "output_type": "pyout",
       "prompt_number": 6,
       "text": [
        "<Container object of 120 artists>"
       ]
      },
      {
       "metadata": {},
       "output_type": "display_data",
       "png": "[encoded data removed]",
       "text": [
        "<matplotlib.figure.Figure at 0x1064b5b90>"
       ]
      }
     ],
     "prompt_number": 6
    },
    {
     "cell_type": "markdown",
     "metadata": {},
     "source": [
      "## Exploring the data numerically\n",
      "...and trying to figure out appropriate binning or visualization:"
     ]
    },
    {
     "cell_type": "code",
     "collapsed": false,
     "input": [
      "print('S2 change between 7.4 and 4.7, mean of all values: ',d74.mean())\n",
      "print('S2 change between 7.4 and 4.7, mean of positive values: ',d74[d74>0].mean())"
     ],
     "language": "python",
     "metadata": {},
     "outputs": [
      {
       "output_type": "stream",
       "stream": "stdout",
       "text": [
        "S2 change between 7.4 and 4.7, mean of all values:  0.0213018867925\n",
        "S2 change between 7.4 and 4.7, mean of positive values:  0.0331411764706\n"
       ]
      }
     ],
     "prompt_number": 7
    },
    {
     "cell_type": "code",
     "collapsed": false,
     "input": [
      "# (ideas, not executed:) d74[d74>0.03314]; d74[d74>0.02130]; d74[d74<0.03314]"
     ],
     "language": "python",
     "metadata": {},
     "outputs": []
    },
    {
     "cell_type": "code",
     "collapsed": false,
     "input": [
      "mf7['s2'].describe()"
     ],
     "language": "python",
     "metadata": {},
     "outputs": [
      {
       "metadata": {},
       "output_type": "pyout",
       "prompt_number": 19,
       "text": [
        "count    109.000000\n",
        "mean       0.878156\n",
        "std        0.065704\n",
        "min        0.536000\n",
        "25%        0.864000\n",
        "50%        0.896000\n",
        "75%        0.915000\n",
        "max        0.970000\n",
        "Name: s2, dtype: float64"
       ]
      }
     ],
     "prompt_number": 19
    },
    {
     "cell_type": "code",
     "collapsed": false,
     "input": [
      "mf4['s2'].describe()"
     ],
     "language": "python",
     "metadata": {},
     "outputs": [
      {
       "metadata": {},
       "output_type": "pyout",
       "prompt_number": 20,
       "text": [
        "count    118.000000\n",
        "mean       0.855559\n",
        "std        0.061060\n",
        "min        0.525000\n",
        "25%        0.834500\n",
        "50%        0.865000\n",
        "75%        0.892000\n",
        "max        0.951000\n",
        "Name: s2, dtype: float64"
       ]
      }
     ],
     "prompt_number": 20
    },
    {
     "cell_type": "code",
     "collapsed": false,
     "input": [
      "mf3['s2'].describe()"
     ],
     "language": "python",
     "metadata": {},
     "outputs": [
      {
       "metadata": {},
       "output_type": "pyout",
       "prompt_number": 21,
       "text": [
        "count    107.000000\n",
        "mean       0.830449\n",
        "std        0.062335\n",
        "min        0.510000\n",
        "25%        0.807500\n",
        "50%        0.846000\n",
        "75%        0.872000\n",
        "max        0.934000\n",
        "Name: s2, dtype: float64"
       ]
      }
     ],
     "prompt_number": 21
    },
    {
     "cell_type": "markdown",
     "metadata": {},
     "source": [
      "## Notes and prep for making an $S^2$ color map on PyMOL structures\n",
      "\n",
      "Purpose: Color each residue by $S^2$ value and compare the color at each pH to visualize change in $S^2$ with pH.\n",
      "\n",
      "Plan:\n",
      "1. Download http://pldserver1.biochem.queensu.ca/~rlc/work/pymol/data2bfactor.py and http://pldserver1.biochem.queensu.ca/~rlc/work/pymol/color_b.py\n",
      "2. Use Python and Unix to write input files for data2bfactor (work in s2_analysis directory)\n",
      "3. In PyMOL, run \"run data2bfactor.py\" and \"run color_b.py\" to load functions (may need to point to full path)\n",
      "4. In PyMOL, run \"data2b_res dphs, s2_7p4\" (or s2_4p7 or s2_3p3 for the other pH)\n",
      "5. In PyMOL, run \"color_b dphs, item=b, gradient=rgb, minimum=0.51, maximum=0.97\"\n",
      "6. ...or try the built-in function: \"spectrum b, rmbc, minimum=0.51, maximum=0.97\""
     ]
    },
    {
     "cell_type": "code",
     "collapsed": false,
     "input": [
      "file_dict = { 's2_3p3':mf3['s2'] , 's2_4p7':mf4['s2'] , 's2_7p4':mf7['s2'] }\n",
      "for f, df in file_dict.items():\n",
      "    out = open(f, 'w')\n",
      "    for resi in df.index:\n",
      "        line = str(resi)+' '+str(df.ix[resi])+'\\n'\n",
      "        out.write(line)\n",
      "    out.close()"
     ],
     "language": "python",
     "metadata": {},
     "outputs": [],
     "prompt_number": 38
    },
    {
     "cell_type": "markdown",
     "metadata": {},
     "source": [
      "### What are the best min and max values for scaling the color spectrum?"
     ]
    },
    {
     "cell_type": "code",
     "collapsed": false,
     "input": [
      "s7 = mf7['s2']\n",
      "s4 = mf4['s2']\n",
      "s3 = mf3['s2']"
     ],
     "language": "python",
     "metadata": {},
     "outputs": [],
     "prompt_number": 50
    },
    {
     "cell_type": "code",
     "collapsed": false,
     "input": [
      "s7.hist(bins=20)\n",
      "s4.hist(bins=20)\n",
      "s3.hist(bins=20)"
     ],
     "language": "python",
     "metadata": {},
     "outputs": [
      {
       "metadata": {},
       "output_type": "pyout",
       "prompt_number": 52,
       "text": [
        "<matplotlib.axes.AxesSubplot at 0x1095caad0>"
       ]
      },
      {
       "metadata": {},
       "output_type": "display_data",
       "png": "[encoded data removed]",
       "text": [
        "<matplotlib.figure.Figure at 0x10972d090>"
       ]
      }
     ],
     "prompt_number": 52
    },
    {
     "cell_type": "code",
     "collapsed": false,
     "input": [
      "s7.hist(bins=20)"
     ],
     "language": "python",
     "metadata": {},
     "outputs": [
      {
       "metadata": {},
       "output_type": "pyout",
       "prompt_number": 53,
       "text": [
        "<matplotlib.axes.AxesSubplot at 0x109817290>"
       ]
      },
      {
       "metadata": {},
       "output_type": "display_data",
       "png": "[encoded data removed]",
       "text": [
        "<matplotlib.figure.Figure at 0x10942fed0>"
       ]
      }
     ],
     "prompt_number": 53
    },
    {
     "cell_type": "code",
     "collapsed": false,
     "input": [
      "s4.hist(bins=20)"
     ],
     "language": "python",
     "metadata": {},
     "outputs": [
      {
       "metadata": {},
       "output_type": "pyout",
       "prompt_number": 54,
       "text": [
        "<matplotlib.axes.AxesSubplot at 0x1098aae90>"
       ]
      },
      {
       "metadata": {},
       "output_type": "display_data",
       "png": "[encoded data removed]",
       "text": [
        "<matplotlib.figure.Figure at 0x109c28950>"
       ]
      }
     ],
     "prompt_number": 54
    },
    {
     "cell_type": "code",
     "collapsed": false,
     "input": [
      "s3.hist(bins=20)"
     ],
     "language": "python",
     "metadata": {},
     "outputs": [
      {
       "metadata": {},
       "output_type": "pyout",
       "prompt_number": 55,
       "text": [
        "<matplotlib.axes.AxesSubplot at 0x109cea850>"
       ]
      },
      {
       "metadata": {},
       "output_type": "display_data",
       "png": "[encoded data removed]",
       "text": [
        "<matplotlib.figure.Figure at 0x10977be90>"
       ]
      }
     ],
     "prompt_number": 55
    },
    {
     "cell_type": "code",
     "collapsed": false,
     "input": [
      "s7[s7>.95]"
     ],
     "language": "python",
     "metadata": {},
     "outputs": [
      {
       "metadata": {},
       "output_type": "pyout",
       "prompt_number": 61,
       "text": [
        "res\n",
        "60     0.952\n",
        "63     0.958\n",
        "87     0.964\n",
        "105    0.954\n",
        "107    0.963\n",
        "120    0.970\n",
        "Name: s2, dtype: float64"
       ]
      }
     ],
     "prompt_number": 61
    },
    {
     "cell_type": "code",
     "collapsed": false,
     "input": [
      "s4[s4>.95]"
     ],
     "language": "python",
     "metadata": {},
     "outputs": [
      {
       "metadata": {},
       "output_type": "pyout",
       "prompt_number": 62,
       "text": [
        "res\n",
        "55     0.951\n",
        "Name: s2, dtype: float64"
       ]
      }
     ],
     "prompt_number": 62
    },
    {
     "cell_type": "code",
     "collapsed": false,
     "input": [
      "s3[s3>.95]"
     ],
     "language": "python",
     "metadata": {},
     "outputs": [
      {
       "metadata": {},
       "output_type": "pyout",
       "prompt_number": 63,
       "text": [
        "Series([], name: s2, dtype: float64)"
       ]
      }
     ],
     "prompt_number": 63
    },
    {
     "cell_type": "code",
     "collapsed": false,
     "input": [
      "s7[s7<.75]"
     ],
     "language": "python",
     "metadata": {},
     "outputs": [
      {
       "metadata": {},
       "output_type": "pyout",
       "prompt_number": 58,
       "text": [
        "res\n",
        "7      0.536\n",
        "8      0.738\n",
        "80     0.554\n",
        "114    0.716\n",
        "Name: s2, dtype: float64"
       ]
      }
     ],
     "prompt_number": 58
    },
    {
     "cell_type": "code",
     "collapsed": false,
     "input": [
      "s4[s4<.75]"
     ],
     "language": "python",
     "metadata": {},
     "outputs": [
      {
       "metadata": {},
       "output_type": "pyout",
       "prompt_number": 59,
       "text": [
        "res\n",
        "7      0.525\n",
        "8      0.674\n",
        "9      0.736\n",
        "80     0.653\n",
        "109    0.745\n",
        "114    0.677\n",
        "118    0.730\n",
        "Name: s2, dtype: float64"
       ]
      }
     ],
     "prompt_number": 59
    },
    {
     "cell_type": "code",
     "collapsed": false,
     "input": [
      "s3[s3<.75]"
     ],
     "language": "python",
     "metadata": {},
     "outputs": [
      {
       "metadata": {},
       "output_type": "pyout",
       "prompt_number": 60,
       "text": [
        "res\n",
        "7      0.510\n",
        "8      0.685\n",
        "9      0.709\n",
        "80     0.676\n",
        "84     0.712\n",
        "114    0.701\n",
        "118    0.683\n",
        "Name: s2, dtype: float64"
       ]
      }
     ],
     "prompt_number": 60
    }
   ],
   "metadata": {}
  }
 ]
}